{
 "cells": [
  {
   "cell_type": "code",
   "execution_count": 2,
   "id": "02591ee7",
   "metadata": {},
   "outputs": [
    {
     "name": "stdout",
     "output_type": "stream",
     "text": [
      "shape: (3, 3)\n",
      "┌─────────┬───────┬────────────────┐\n",
      "│ nome    ┆ idade ┆ cidade         │\n",
      "│ ---     ┆ ---   ┆ ---            │\n",
      "│ str     ┆ i64   ┆ str            │\n",
      "╞═════════╪═══════╪════════════════╡\n",
      "│ Ana     ┆ 25    ┆ São Paulo      │\n",
      "│ Carlos  ┆ 30    ┆ Rio de Janeiro │\n",
      "│ Beatriz ┆ 22    ┆ Belo Horizonte │\n",
      "└─────────┴───────┴────────────────┘\n",
      "shape: (2, 3)\n",
      "┌────────┬───────┬────────────────┐\n",
      "│ nome   ┆ idade ┆ cidade         │\n",
      "│ ---    ┆ ---   ┆ ---            │\n",
      "│ str    ┆ i64   ┆ str            │\n",
      "╞════════╪═══════╪════════════════╡\n",
      "│ Ana    ┆ 25    ┆ São Paulo      │\n",
      "│ Carlos ┆ 30    ┆ Rio de Janeiro │\n",
      "└────────┴───────┴────────────────┘\n"
     ]
    },
    {
     "ename": "AttributeError",
     "evalue": "'DataFrame' object has no attribute 'groupby'",
     "output_type": "error",
     "traceback": [
      "\u001b[31m---------------------------------------------------------------------------\u001b[39m",
      "\u001b[31mAttributeError\u001b[39m                            Traceback (most recent call last)",
      "\u001b[36mCell\u001b[39m\u001b[36m \u001b[39m\u001b[32mIn[2]\u001b[39m\u001b[32m, line 14\u001b[39m\n\u001b[32m     11\u001b[39m \u001b[38;5;28mprint\u001b[39m(maiores)\n\u001b[32m     13\u001b[39m \u001b[38;5;66;03m# Agrupar por cidade (por exemplo, contando quantos nomes por cidade)\u001b[39;00m\n\u001b[32m---> \u001b[39m\u001b[32m14\u001b[39m agrupado = \u001b[43mdf\u001b[49m\u001b[43m.\u001b[49m\u001b[43mgroupby\u001b[49m(\u001b[33m\"\u001b[39m\u001b[33mcidade\u001b[39m\u001b[33m\"\u001b[39m).agg(\n\u001b[32m     15\u001b[39m     pl.count(\u001b[33m\"\u001b[39m\u001b[33mnome\u001b[39m\u001b[33m\"\u001b[39m).alias(\u001b[33m\"\u001b[39m\u001b[33mtotal_pessoas\u001b[39m\u001b[33m\"\u001b[39m)\n\u001b[32m     16\u001b[39m )\n\u001b[32m     17\u001b[39m \u001b[38;5;28mprint\u001b[39m(agrupado)\n\u001b[32m     19\u001b[39m \u001b[38;5;66;03m# Criar nova coluna com idade + 10\u001b[39;00m\n",
      "\u001b[31mAttributeError\u001b[39m: 'DataFrame' object has no attribute 'groupby'"
     ]
    }
   ],
   "source": [
    "import polars as pl\n",
    "\n",
    "# Carregar o CSV\n",
    "df = pl.read_csv(\"dados.csv\")\n",
    "\n",
    "# Mostrar as 5 primeiras linhas\n",
    "print(df.head())\n",
    "\n",
    "# Filtrar pessoas com idade maior que 24\n",
    "maiores = df.filter(pl.col(\"idade\") > 24)\n",
    "print(maiores)\n",
    "\n",
    "# Agrupar por cidade (por exemplo, contando quantos nomes por cidade)\n",
    "agrupado = df.groupby(\"cidade\").agg(\n",
    "    pl.count(\"nome\").alias(\"total_pessoas\")\n",
    ")\n",
    "print(agrupado)\n",
    "\n",
    "# Criar nova coluna com idade + 10\n",
    "df = df.with_columns(\n",
    "    (pl.col(\"idade\") + 10).alias(\"idade_mais_10\")\n",
    ")\n",
    "print(df)\n"
   ]
  }
 ],
 "metadata": {
  "kernelspec": {
   "display_name": "env",
   "language": "python",
   "name": "python3"
  },
  "language_info": {
   "codemirror_mode": {
    "name": "ipython",
    "version": 3
   },
   "file_extension": ".py",
   "mimetype": "text/x-python",
   "name": "python",
   "nbconvert_exporter": "python",
   "pygments_lexer": "ipython3",
   "version": "3.13.5"
  }
 },
 "nbformat": 4,
 "nbformat_minor": 5
}
