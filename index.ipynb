{
 "cells": [
  {
   "cell_type": "markdown",
   "id": "e738c5d3",
   "metadata": {},
   "source": [
    "# Datasets da Kaggle\n"
   ]
  },
  {
   "cell_type": "code",
   "execution_count": 18,
   "id": "240671c5",
   "metadata": {},
   "outputs": [],
   "source": [
    "import pandas as pd\n",
    "\n",
    "football = pd.read_csv(\"./dados/footballSerieA.csv\")"
   ]
  },
  {
   "cell_type": "code",
   "execution_count": null,
   "id": "e7d2e8c7",
   "metadata": {},
   "outputs": [],
   "source": [
    "football = football.drop(columns=['Inde'])"
   ]
  },
  {
   "cell_type": "code",
   "execution_count": null,
   "id": "3a10b214",
   "metadata": {},
   "outputs": [],
   "source": []
  }
 ],
 "metadata": {
  "kernelspec": {
   "display_name": "env",
   "language": "python",
   "name": "python3"
  },
  "language_info": {
   "codemirror_mode": {
    "name": "ipython",
    "version": 3
   },
   "file_extension": ".py",
   "mimetype": "text/x-python",
   "name": "python",
   "nbconvert_exporter": "python",
   "pygments_lexer": "ipython3",
   "version": "3.13.5"
  }
 },
 "nbformat": 4,
 "nbformat_minor": 5
}
