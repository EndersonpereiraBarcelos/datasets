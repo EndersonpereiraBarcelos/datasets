{
 "cells": [
  {
   "cell_type": "markdown",
   "id": "e738c5d3",
   "metadata": {},
   "source": [
    "# Datasets da Kaggle\n"
   ]
  },
  {
   "cell_type": "code",
   "execution_count": 38,
   "id": "240671c5",
   "metadata": {},
   "outputs": [],
   "source": [
    "import pandas as pd\n",
    "\n",
    "jobs = pd.read_csv(\"jobs_dataset.csv\")"
   ]
  },
  {
   "cell_type": "code",
   "execution_count": 39,
   "id": "dc646290",
   "metadata": {},
   "outputs": [
    {
     "data": {
      "application/vnd.microsoft.datawrangler.viewer.v0+json": {
       "columns": [
        {
         "name": "index",
         "rawType": "int64",
         "type": "integer"
        },
        {
         "name": "company",
         "rawType": "object",
         "type": "string"
        },
        {
         "name": "rating",
         "rawType": "float64",
         "type": "float"
        },
        {
         "name": "location",
         "rawType": "object",
         "type": "string"
        },
        {
         "name": "positionName",
         "rawType": "object",
         "type": "string"
        },
        {
         "name": "description",
         "rawType": "object",
         "type": "string"
        },
        {
         "name": "salary",
         "rawType": "object",
         "type": "unknown"
        },
        {
         "name": "url",
         "rawType": "object",
         "type": "string"
        },
        {
         "name": "jobType/0",
         "rawType": "object",
         "type": "string"
        },
        {
         "name": "jobType/1",
         "rawType": "object",
         "type": "unknown"
        },
        {
         "name": "jobType/2",
         "rawType": "object",
         "type": "unknown"
        },
        {
         "name": "jobType/3",
         "rawType": "object",
         "type": "unknown"
        },
        {
         "name": "searchInput/country",
         "rawType": "object",
         "type": "string"
        },
        {
         "name": "searchInput/position",
         "rawType": "object",
         "type": "string"
        },
        {
         "name": "externalApplyLink",
         "rawType": "object",
         "type": "string"
        }
       ],
       "ref": "54ec99d3-d436-4c86-bd04-c92343723619",
       "rows": [
        [
         "0",
         "Google",
         "4.3",
         "San Bruno, CA",
         "Senior Data Scientist, Research, YouTube Search",
         "Note: By applying to this position you will have an opportunity to share your preferred working location from the following: San Bruno, CA, USA; Mountain View, CA, USA.\nMinimum qualifications:\nMaster's degree in Statistics, Data Science, Mathematics, Physics, Economics, Operations Research, Engineering, or a related quantitative field or equivalent practical experience.\n5 years of experience using analytics to solve product or business problems, coding (e.g., Python, R, SQL), querying databases or statistical analysis, or 3 years of work experience with a PhD degree.\n\nPreferred qualifications:\n8 years of work experience using analytics to solve product or business problems, coding (e.g., Python, R, SQL), querying databases or statistical analysis, or 6 years of work experience with a PhD degree.\nAbout the job\nIn this role, you will develop statistical solutions to common problems faced by YouTube (YT) Search. The role also involves participating in experiments to understand issues, and contributing to foundational improvements in data quality.\n\nThe US base salary range for this full-time position is $166,000-$244,000 + bonus + equity + benefits. Our salary ranges are determined by role, level, and location. Within the range, individual pay is determined by work location and additional factors, including job-related skills, experience, and relevant education or training. Your recruiter can share more about the specific salary range for your preferred location during the hiring process.\n\nPlease note that the compensation details listed in US role postings reflect the base salary only, and do not include bonus, equity, or benefits. Learn more about benefits at Google.\nResponsibilities\nCollaborate with stakeholders in cross-projects and team settings to identify business or product questions to answer. Provide feedback to translate business questions into analysis, evaluation metrics, or mathematical models.\nUse custom data infrastructure or existing data models. Design and evaluate models to mathematically express and solve defined problems.\nGather information, business goals, priorities, and organizational context around the questions to answer, as well as the existing and upcoming data infrastructure.\nOwn the process of gathering, extracting, and compiling data across sources via tools (e.g., SQL, R, Python). Format, re-structure, or validate data to ensure quality, and review the dataset to ensure it is ready for analysis.\nGoogle is proud to be an equal opportunity workplace and is an affirmative action employer. We are committed to equal employment opportunity regardless of race, color, ancestry, religion, sex, national origin, sexual orientation, age, citizenship, marital status, disability, gender identity or Veteran status. We also consider qualified applicants regardless of criminal histories, consistent with legal requirements. See also Google's EEO Policy and EEO is the Law. If you have a disability or special need that requires accommodation, please let us know by completing our Accommodations for Applicants form.",
         "$166,000 - $244,000 a year",
         "https://www.indeed.com/viewjob?jk=3129ec5dde24f0d3",
         "Full-time",
         null,
         null,
         null,
         "US",
         "Data Scientist",
         "https://www.google.com/about/careers/applications/jobs/results/120863803960107718-senior-data-scientist/?src=Online/Job%20Board/indeed&utm_source=indeed&utm_medium=job-posting"
        ],
        [
         "1",
         "BAXTER",
         "3.7",
         "Milwaukee, WI 53214",
         "Senior AI Engineer - Data Scientist",
         "This is where you save and sustain lives\n\nAt Baxter, we are deeply connected by our mission. No matter your role at Baxter, your work makes a positive impact on people around the world. You’ll feel a sense of purpose throughout the organization, as we know our work improves outcomes for millions of patients.\n\nBaxter’s products and therapies are found in almost every hospital worldwide, in clinics and in the home. For over 85 years, we have pioneered significant medical innovations that transform healthcare.\n\nTogether, we create a place where we are happy, successful and inspire each other. This is where you can do your best work.\n\nJoin us at the intersection of saving and sustaining lives— where your purpose accelerates our mission.\n\nYour Role at Baxter:\n\nWe are looking for a Sr AI Engineer (Data Scientist) that can grow, tackle, drive, and build data products to support the Connected solutions portfolio within Baxter.\n\nYour Team:\n\nThis role is a part of the Innovation, Strategy and Data science team within the Digital Platform and Innovation group responsible for bringing data science and machine learning ideas to life at Baxter\n\nWhat You'll Be Doing:\n\nResponsible for the development and implementation of predictive modeling algorithms and techniques to address unmet needs, customer/business problems and optimize user experiences.\n\nConduct in-depth research to stay at the forefront of AI advancements, exploring opportunities to integrate predictive and generative AI models into our products and services.\n\nPredictive and generative AI Modeling.\n\nFormulate problem statements and hypotheses for diverse business challenges (clinical, operational and business process optimization problems).\n\nCreate Spark & Python code in Databricks to retrieve data from across disparate data sources and create new innovative actionable insights.\n\nPrepare data for effective model training.\n\nDevelop, train, and evaluate predictive AI models using various tailored to specific problems.\n\nContinuously refine and optimize models for performance, scalability, and efficiency.\n\nDeploy models into production environments and supervise their performance.\n\nIdentify opportunities where generative AI models can add value.\n\nExplore and experiment with generative models (e.g., GPT) suitable for the chosen application.\n\nTrain and evaluate generative models, fine-tuning parameters for desired outputs.\n\nIntegrate generative models into production workflows or applications.\n\nWork with data-sets of varying degrees of size and complexity including both structured and unstructured data.\n\nImplements batch and real-time model scoring to drive actions.\n\nDevelop sophisticated visualization of analysis output for various users.\n\nDetermines the continuous improvement opportunities of current predictive modeling algorithms.\n\nInnovate and engage with key technology stakeholders to create a compelling vision of a data-driven enterprise environment and the impact it will have on their teams, their projects and their outcomes.\n\nWhat You'll Bring:\n\nBachelor’s Degree in STEM (science, technology, engineering, math) related field or a similar quantitative analytics field.\n\n4+ years of professional experience with a variety of data products / data science model / algorithm development and implementing in production.\n\nSoftware development experience.\n\nExperience with healthcare data and working in a HIPAA regulated environment preferred.\n\nExperience with varying database structures and large datasets preferred.\n\nExperience with modern data science tools; their primary stack is Spark, Scala, Python, Databricks, and more.\n\nExperience in Microsoft Azure cloud environment is preferred.\n\nProficiency with developing data visualization technology and capabilities (i.e., Power BI, Tableau).\n\nBrings a drive for creatively applying pragmatic and scalable approaches to Machine Learning to tackle difficult problems affecting patients and providers.\n\nPassionate about working on a high-performance team toward a multi-year vision with incremental deliverables.\n\nEntrepreneurial self-starter, curious about both technology and business, and driven by delivering end-user value and impact.\n\nWe understand compensation is an important factor as you consider the next step in your career. At Baxter, we are committed to equitable pay for all employees, and we strive to be more transparent with our pay practices. The estimated base salary for this position is $112,000.00 to $154,000.00 annually. The estimated range is meant to reflect an anticipated salary range for the position. We may pay more or less than of the anticipated range based upon market data and other factors, all of which are subject to change. Individual pay is based on upon location, skills and expertise, experience, and other relevant factors. For questions about this, our pay philosophy, and available benefits, please speak to the recruiter if you decide to apply and are selected for an interview.\n\nApplicants must be authorized to work for any employer in the U.S. We are unable to sponsor or take over sponsorship of an employment visa at this time.\n\nUS Benefits at Baxter (except for Puerto Rico)\n\nThis is where your well-being matters. Baxter offers comprehensive compensation and benefits packages for eligible roles. Our health and well-being benefits include medical and dental coverage that start on day one, as well as insurance coverage for basic life, accident, short-term and long-term disability, and business travel accident insurance. Financial and retirement benefits include the Employee Stock Purchase Plan (ESPP), with the ability to purchase company stock at a discount, and the 401(k) Retirement Savings Plan (RSP), with options for employee contributions and company matching. We also offer Flexible Spending Accounts, educational assistance programs, and time-off benefits such as paid holidays, paid time off ranging from 20 to 35 days based on length of service, family and medical leaves of absence, and paid parental leave. Additional benefits include commuting benefits, the Employee Discount Program, the Employee Assistance Program (EAP), and childcare benefits. Join us and enjoy the competitive compensation and benefits we offer to our employees. For additional information regarding Baxter US Benefits, please speak with your recruiter or visit our Benefits site: Benefits | Baxter\n\nEqual Employment Opportunity\n\nBaxter is an equal opportunity employer. Baxter evaluates qualified applicants without regard to race, color, religion, gender, national origin, age, sexual orientation, gender identity or expression, protected veteran status, disability/handicap status or any other legally protected characteristic.\n\nKnow Your Rights: Workplace Discrimination is Illegal\n\nReasonable Accommodations\n\nBaxter is committed to working with and providing reasonable accommodations to individuals with disabilities globally. If, because of a medical condition or disability, you need a reasonable accommodation for any part of the application or interview process, please click on the link here and let us know the nature of your request along with your contact information.\n\nRecruitment Fraud Notice\n\nBaxter has discovered incidents of employment scams, where fraudulent parties pose as Baxter employees, recruiters, or other agents, and engage with online job seekers in an attempt to steal personal and/or financial information. To learn how you can protect yourself, review our Recruitment Fraud Notice.",
         "$112,000 - $154,000 a year",
         "https://www.indeed.com/viewjob?jk=19da1b85455c7081",
         "Full-time",
         null,
         null,
         null,
         "US",
         "Data Scientist",
         "https://jobs.baxter.com/en/job/-/-/152/82987889104"
        ],
        [
         "2",
         "Meta",
         "4.2",
         "Redmond, WA",
         "Audio Software Engineer, Applied Scientist",
         "Redmond, WA • + 2 more•Full Time\nMessenger\nMessenger\nInstagram\nGenerative AI\nFacebook\nArtificial Intelligence\nAR/VR\nResearch\nSoftware Engineering\nEngineering\nMachine Learning\nResearch\nArtificial Intelligence\n\nAt Meta, we're building products that revolutionize the way people connect, work, and play. Our audio teams are at the forefront of this innovation, developing cutting-edge technologies that redefine the way we experience sound in virtual and augmented worlds.\n\nOur teams are dedicated to creating a considerate and honest environment where self-motivated individuals thrive. We encourage ownership, creativity, and collaboration, and we're passionate about making science fiction real.\n\nJoin us on this adventure: As a member of our audio team, you'll be part of a community that's shaping the future of sound and connection. Together, let's invent the future and change the world.\nAudio Software Engineer, Applied Scientist Responsibilities\nCollaborate in a team environment across multiple scientific and engineering disciplines, making the architectural tradeoffs required to rapidly deliver software solutions\nCreate clean readable code, debug complex problems, prioritize ruthlessly and get things done with a high level of efficiency\nLearn constantly, dive into new areas with unfamiliar technologies, and embrace the ambiguity of problem solving\nDevelop audio software for a variety of consumer products and devices\nMinimum Qualifications\nBachelor's degree in Computer Science, Computer Engineering, relevant technical field, or equivalent practical experience\n5+ years software development experience in industry settings or PhD with 2+ years of experience\n3+ years relevant audio software engineering experience in industry settings\nC or C++ experience, including use of C++11/14/17 features\nCommunication experience and demonstrated experience working across disciplines to drive optimal solutions\nPreferred Qualifications\nExpertise in audio signal processing and auditory perception, both classical and machine learned techniques\nExperience with audio stack including codecs, audio capture/render, and network compensation/jitter buffer\nProven track record of innovation as demonstrated by products shipped, publications and/or patents\nExperience with GenAI\nFor those who live in or expect to work from California if hired for this position.\nAbout Meta\nMeta builds technologies that help people connect, find communities, and grow businesses. When Facebook launched in 2004, it changed the way people connect. Apps like Messenger, Instagram and WhatsApp further empowered billions around the world. Now, Meta is moving beyond 2D screens toward immersive experiences like augmented and virtual reality to help build the next evolution in social technology. People who choose to build their careers by building with us at Meta help shape a future that will take us beyond what digital connection makes possible today—beyond the constraints of screens, the limits of distance, and even the rules of physics.\n\n$70.67/hour to $208,000/year + bonus + equity + benefits\n\nIndividual compensation is determined by skills, qualifications, experience, and location. Compensation details listed in this posting reflect the base hourly rate, monthly rate, or annual salary only, and do not include bonus, equity or sales incentives, if applicable. In addition to base compensation, Meta offers benefits. Learn more about benefits at Meta.\n\nEqual Employment Opportunity\nMeta is proud to be an Equal Employment Opportunity employer. We do not discriminate based upon race, religion, color, national origin, sex (including pregnancy, childbirth, reproductive health decisions, or related medical conditions), sexual orientation, gender identity, gender expression, age, status as a protected veteran, status as an individual with a disability, genetic information, political views or activity, or other applicable legally protected characteristics.\nMeta is committed to providing reasonable accommodations for qualified individuals with disabilities and disabled veterans in our job application procedures.",
         "$70.67 an hour",
         "https://www.indeed.com/viewjob?jk=0b0b432e2a510629",
         "Full-time",
         null,
         null,
         null,
         "US",
         "Data Scientist",
         "https://www.metacareers.com/jobs/3101204833367519/"
        ],
        [
         "3",
         "Meta",
         "4.2",
         "Bellevue, WA 98005",
         "Software Engineer, Machine Learning",
         "Bellevue, WA • Full Time\nMeta\nSoftware Engineering\nEngineering\n\nMeta Platforms, Inc. (Meta), formerly known as Facebook Inc., builds technologies that help people connect, find communities, and grow businesses. When Facebook launched in 2004, it changed the way people connect. Apps and services like Messenger, Instagram, and WhatsApp further empowered billions around the world. Now, Meta is moving beyond 2D screens toward immersive experiences like augmented and virtual reality to help build the next evolution in social technology.\nSoftware Engineer, Machine Learning Responsibilities\nResearch, design, develop, and test operating systems-level software, compilers, and network distribution software for massive social data and prediction problems.\nHave industryexperience working on a range of ranking, classification, recommendation, and optimization problems, e.g. payment fraud, click-through or conversion rate prediction, click-fraud detection, ads/feed/search ranking, text/sentiment classification, collaborative filtering/recommendation, or spam detection.\nWorking on problems of moderate scope, develop highly scalable systems, algorithms and tools leveraging deep learning, data regression, and rules based models.\nSuggest, collect, analyze and synthesize requirements and bottleneck in technology, systems, and tools.\nDevelop solutions that iterate orders of magnitude with a higher efficiency, efficiently leverage orders of magnitude and more data, and explore state-of-the-art deep learning techniques.\nReceiving general instruction from supervisor, code deliverables in tandem with the engineering team.\nAdapt standard machine learning methods to best exploit modern parallel environments (e.g. distributed clusters, multicore SMP, and GPU).\nMinimum Qualifications\nRequires a Master’s degree in Computer Science, Computer Software, Computer Engineering, Applied Sciences, Mechanical Engineering, Mathematics, Physics, or related field and threeyears of work experience in the job offered or in a computer-related occupation\nRequires three years of experience in the following:\n1. Machine Learning Framework(s): PyTorch, MXNet, or Tensorflow\n2. Machine learning, recommendation systems, computer vision, natural language processing, data mining, or distributed systems\n3. Translating insights into business recommendations\n4. Hadoop, HBase, Pig, MapReduce, Sawzall, Bigtable, or Spark\n5. Developing and debugging in C, C++, and Java\n6. Scripting languages: Perl, Python, PHP, or shell scripts\n7. C, C++, C#, or Java\n8. Python, PHP, or Haskell\n9. Relational databases and SQL\n10. Software development tools: Code editors (VIM or Emacs), and revision control systems (Subversion, GIT, or Perforce)\n11. Linux, UNIX, or other *nix-like OS as evidenced by file manipulation, advanced commands, and shell scripting\n12. Build highly-scalable performant solutions\n13. Data processing, programming languages, databases, networking, operating systems, computer graphics, or human-computer interaction\n14. Applying algorithms and core computer science concepts to real world systems as evidenced by recognizing and matching patterns from different areas of computer science in production systems\n15. Distributed systems\nFor those who live in or expect to work from California if hired for this position.\nAbout Meta\nMeta builds technologies that help people connect, find communities, and grow businesses. When Facebook launched in 2004, it changed the way people connect. Apps like Messenger, Instagram and WhatsApp further empowered billions around the world. Now, Meta is moving beyond 2D screens toward immersive experiences like augmented and virtual reality to help build the next evolution in social technology. People who choose to build their careers by building with us at Meta help shape a future that will take us beyond what digital connection makes possible today—beyond the constraints of screens, the limits of distance, and even the rules of physics.\n\n$203,350/year to $240,240/year + bonus + equity + benefits\n\nIndividual compensation is determined by skills, qualifications, experience, and location. Compensation details listed in this posting reflect the base hourly rate, monthly rate, or annual salary only, and do not include bonus, equity or sales incentives, if applicable. In addition to base compensation, Meta offers benefits. Learn more about benefits at Meta.\n\nEqual Employment Opportunity\nMeta is proud to be an Equal Employment Opportunity employer. We do not discriminate based upon race, religion, color, national origin, sex (including pregnancy, childbirth, reproductive health decisions, or related medical conditions), sexual orientation, gender identity, gender expression, age, status as a protected veteran, status as an individual with a disability, genetic information, political views or activity, or other applicable legally protected characteristics.\nMeta is committed to providing reasonable accommodations for qualified individuals with disabilities and disabled veterans in our job application procedures.",
         "$203,350 - $240,240 a year",
         "https://www.indeed.com/viewjob?jk=08d2ef77c9765e06",
         "Full-time",
         null,
         null,
         null,
         "US",
         "Data Scientist",
         "https://www.metacareers.com/jobs/1096352489054878/"
        ],
        [
         "4",
         "Lockheed Martin",
         "4.0",
         "Shelton, CT 06484",
         "AI / Machine Learning Research Engineer (early career)",
         "Job ID: 694362BR\nDate posted: May. 22, 2025\n\nDescription:The Lockheed Martin Artificial Intelligence Center (LAIC) team is seeking a high energy individual with a strong working knowledge in software engineering, artificial intelligence and machine learning to support the Applied AI team and product portfolio, focusing on a broad range of projects across the LAIC. The team is focused on exploiting small, innovative and agile teams to rapidly iterate and mature solutions from prototypes to deployment for utilization across the Lockheed Martin enterprise and in the field for our customers.\n\nThe selected candidate will focus on the development of technologies and products that leverage Artificial Intelligence to provide discriminating capability to our customers. This will require engagement in every phase of the system development lifecycle including requirements generation, system and software design, implementation, integration, and deployment. Activities will focus on low TRL research, proof of concepts, development of prototypes, A/B testing, and translating research into demonstrators with expected support for transition to production, integration, and deployment. The selected candidate can expect to utilize current AI paradigms including computer vision, deep learning, and reinforcement learning; applying these techniques to solve complex problems and field innovative solutions.\n\nWhat's In It For You\nFrom onsite to remote, we offer flexible work schedules to comprehensive benefits investing in your future and security, Learn more about Lockheed Martin's comprehensive benefits package here.\nDo you want to be part of a company culture that empowers employees to think big, lead with a growth mindset, and make the impossible a reality? We provide the resources and give you the flexibility to enable inspiration and focus -if you have the passion and courage to dream big, work hard, and have fun doing what you love then we want to build a better tomorrow with you.\n\nMust exhibit self-motivation, a strong work ethic, time management and interpersonal skills.\n\nThe team's preference is to have a candidate based at the LAIC office in Shelton, CT. However, it may be possible for candidates to work at any major LM facility, or remotely.\n\n#LMLAIC\nBasic Qualifications:\n• Bachelor's Degree in Engineering, Computer Science, Physics, Mathematics, or other related discipline\n• Experience using machine learning frameworks\n• Experience with Python and/or multiple libraries (NumPy, Pytorch, OpenCV, Scikit, Pandas, etc.)\n• Familiarity with modern Computer Vision or Autonomy research\n• Must be a US Citizen.\nDesired Skills:\n• Master's Degree in Engineering, Computer Science, Physics, Mathematics, or other related discipline\n• Experience with modern Computer Vision\n• Experience with applying research to real-world problems\n• Published papers in a scientific or related domain\n• Experience developing applications on Linux\n• Experience with DevOps tools: Docker, Git [GitLab, GitHub], Continuous Integration [CI], Continuous Deployment [CD]\n• Experience with hardware-accelerated computing for both CPUs and GPUs (e.g. CUDA, Intel oneAPI, SYCL)\n• Experience with model deployment software libraries and stacks (e.g. NVIDIA TensorRT, Triton Inference Server, OnnxRuntime)\n• Experience deploying AI-enabled systems in multiple environments (e.g. cloud, edge devices)\n• Familiarity with network programming (e.g. Socket programming with TCP and UDP)\n• Familiarity with C++, C, GO, Rust, or other compiled languages\n• Familiarity with high-performance computing\n• Familiarity with service-to-service messaging (e.g. gRPC, Kafka, ActiveMQ, ZeroMQ, RabbitMQ, DDS, RESTful APIs, etc.)\nClearance Level: None\nOther Important Information You Should Know\nExpression of Interest: By applying to this job, you are expressing interest in this position and could be considered for other career opportunities where similar skills and requirements have been identified as a match. Should this match be identified you may be contacted for this and future openings.\nAbility to Work Remotely: Part-time Remote Telework: The employee selected for this position will work part of their work schedule remotely and part of their work schedule at a designated Lockheed Martin facility. The specific weekly schedule will be discussed during the hiring process.\nWork Schedules: Lockheed Martin supports a variety of alternate work schedules that provide additional flexibility to our employees. Schedules range from standard 40 hours over a five day work week while others may be condensed. These condensed schedules provide employees with additional time away from the office and are in addition to our Paid Time off benefits.\nSchedule for this Position: 4x10 hour day, 3 days off per week\nLockheed Martin is an equal opportunity employer. Qualified candidates will be considered without regard to legally protected characteristics.\nThe application window will close in 90 days; applicants are encouraged to apply within 5 - 30 days of the requisition posting date in order to receive optimal consideration.\nJoin us at , where your mission is ours. Our customers tackle the hardest missions. Those that demand extraordinary amounts of courage, resilience and precision. They're dangerous. Critical. Sometimes they even provide an opportunity to change the world and save lives. Those are the missions we care about.\n\nAs a leading technology innovation company, 's vast team works with partners around the world to bring proven performance to our customers' toughest challenges. has employees based in many states throughout the U.S., and Internationally, with business locations in many nations and territories.\nExperience Level: Experienced Professional\nBusiness Unit: ENTERPRISE BUSINESS SERVICES\nRelocation Available: Possible\nCareer Area: Artificial Intelligence\nType: Full-Time\nShift: First",
         null,
         "https://www.indeed.com/viewjob?jk=e9aad7dcc34e8466",
         "Full-time",
         null,
         null,
         null,
         "US",
         "Data Scientist",
         "https://click.appcast.io/t/V35efAz0-l7FWwo6IKeujipJNEqEaouuJQt7xtVf7tw=?Codes=IND&ittk=LUX73PPI2T"
        ]
       ],
       "shape": {
        "columns": 14,
        "rows": 5
       }
      },
      "text/html": [
       "<div>\n",
       "<style scoped>\n",
       "    .dataframe tbody tr th:only-of-type {\n",
       "        vertical-align: middle;\n",
       "    }\n",
       "\n",
       "    .dataframe tbody tr th {\n",
       "        vertical-align: top;\n",
       "    }\n",
       "\n",
       "    .dataframe thead th {\n",
       "        text-align: right;\n",
       "    }\n",
       "</style>\n",
       "<table border=\"1\" class=\"dataframe\">\n",
       "  <thead>\n",
       "    <tr style=\"text-align: right;\">\n",
       "      <th></th>\n",
       "      <th>company</th>\n",
       "      <th>rating</th>\n",
       "      <th>location</th>\n",
       "      <th>positionName</th>\n",
       "      <th>description</th>\n",
       "      <th>salary</th>\n",
       "      <th>url</th>\n",
       "      <th>jobType/0</th>\n",
       "      <th>jobType/1</th>\n",
       "      <th>jobType/2</th>\n",
       "      <th>jobType/3</th>\n",
       "      <th>searchInput/country</th>\n",
       "      <th>searchInput/position</th>\n",
       "      <th>externalApplyLink</th>\n",
       "    </tr>\n",
       "  </thead>\n",
       "  <tbody>\n",
       "    <tr>\n",
       "      <th>0</th>\n",
       "      <td>Google</td>\n",
       "      <td>4.3</td>\n",
       "      <td>San Bruno, CA</td>\n",
       "      <td>Senior Data Scientist, Research, YouTube Search</td>\n",
       "      <td>Note: By applying to this position you will ha...</td>\n",
       "      <td>$166,000 - $244,000 a year</td>\n",
       "      <td>https://www.indeed.com/viewjob?jk=3129ec5dde24...</td>\n",
       "      <td>Full-time</td>\n",
       "      <td>NaN</td>\n",
       "      <td>NaN</td>\n",
       "      <td>NaN</td>\n",
       "      <td>US</td>\n",
       "      <td>Data Scientist</td>\n",
       "      <td>https://www.google.com/about/careers/applicati...</td>\n",
       "    </tr>\n",
       "    <tr>\n",
       "      <th>1</th>\n",
       "      <td>BAXTER</td>\n",
       "      <td>3.7</td>\n",
       "      <td>Milwaukee, WI 53214</td>\n",
       "      <td>Senior AI Engineer - Data Scientist</td>\n",
       "      <td>This is where you save and sustain lives\\n\\nAt...</td>\n",
       "      <td>$112,000 - $154,000 a year</td>\n",
       "      <td>https://www.indeed.com/viewjob?jk=19da1b85455c...</td>\n",
       "      <td>Full-time</td>\n",
       "      <td>NaN</td>\n",
       "      <td>NaN</td>\n",
       "      <td>NaN</td>\n",
       "      <td>US</td>\n",
       "      <td>Data Scientist</td>\n",
       "      <td>https://jobs.baxter.com/en/job/-/-/152/8298788...</td>\n",
       "    </tr>\n",
       "    <tr>\n",
       "      <th>2</th>\n",
       "      <td>Meta</td>\n",
       "      <td>4.2</td>\n",
       "      <td>Redmond, WA</td>\n",
       "      <td>Audio Software Engineer, Applied Scientist</td>\n",
       "      <td>Redmond, WA • + 2 more•Full Time\\nMessenger\\nM...</td>\n",
       "      <td>$70.67 an hour</td>\n",
       "      <td>https://www.indeed.com/viewjob?jk=0b0b432e2a51...</td>\n",
       "      <td>Full-time</td>\n",
       "      <td>NaN</td>\n",
       "      <td>NaN</td>\n",
       "      <td>NaN</td>\n",
       "      <td>US</td>\n",
       "      <td>Data Scientist</td>\n",
       "      <td>https://www.metacareers.com/jobs/3101204833367...</td>\n",
       "    </tr>\n",
       "    <tr>\n",
       "      <th>3</th>\n",
       "      <td>Meta</td>\n",
       "      <td>4.2</td>\n",
       "      <td>Bellevue, WA 98005</td>\n",
       "      <td>Software Engineer, Machine Learning</td>\n",
       "      <td>Bellevue, WA • Full Time\\nMeta\\nSoftware Engin...</td>\n",
       "      <td>$203,350 - $240,240 a year</td>\n",
       "      <td>https://www.indeed.com/viewjob?jk=08d2ef77c976...</td>\n",
       "      <td>Full-time</td>\n",
       "      <td>NaN</td>\n",
       "      <td>NaN</td>\n",
       "      <td>NaN</td>\n",
       "      <td>US</td>\n",
       "      <td>Data Scientist</td>\n",
       "      <td>https://www.metacareers.com/jobs/1096352489054...</td>\n",
       "    </tr>\n",
       "    <tr>\n",
       "      <th>4</th>\n",
       "      <td>Lockheed Martin</td>\n",
       "      <td>4.0</td>\n",
       "      <td>Shelton, CT 06484</td>\n",
       "      <td>AI / Machine Learning Research Engineer (early...</td>\n",
       "      <td>Job ID: 694362BR\\nDate posted: May. 22, 2025\\n...</td>\n",
       "      <td>NaN</td>\n",
       "      <td>https://www.indeed.com/viewjob?jk=e9aad7dcc34e...</td>\n",
       "      <td>Full-time</td>\n",
       "      <td>NaN</td>\n",
       "      <td>NaN</td>\n",
       "      <td>NaN</td>\n",
       "      <td>US</td>\n",
       "      <td>Data Scientist</td>\n",
       "      <td>https://click.appcast.io/t/V35efAz0-l7FWwo6IKe...</td>\n",
       "    </tr>\n",
       "  </tbody>\n",
       "</table>\n",
       "</div>"
      ],
      "text/plain": [
       "           company  rating             location  \\\n",
       "0           Google     4.3        San Bruno, CA   \n",
       "1           BAXTER     3.7  Milwaukee, WI 53214   \n",
       "2             Meta     4.2          Redmond, WA   \n",
       "3             Meta     4.2   Bellevue, WA 98005   \n",
       "4  Lockheed Martin     4.0    Shelton, CT 06484   \n",
       "\n",
       "                                        positionName  \\\n",
       "0    Senior Data Scientist, Research, YouTube Search   \n",
       "1                Senior AI Engineer - Data Scientist   \n",
       "2         Audio Software Engineer, Applied Scientist   \n",
       "3                Software Engineer, Machine Learning   \n",
       "4  AI / Machine Learning Research Engineer (early...   \n",
       "\n",
       "                                         description  \\\n",
       "0  Note: By applying to this position you will ha...   \n",
       "1  This is where you save and sustain lives\\n\\nAt...   \n",
       "2  Redmond, WA • + 2 more•Full Time\\nMessenger\\nM...   \n",
       "3  Bellevue, WA • Full Time\\nMeta\\nSoftware Engin...   \n",
       "4  Job ID: 694362BR\\nDate posted: May. 22, 2025\\n...   \n",
       "\n",
       "                       salary  \\\n",
       "0  $166,000 - $244,000 a year   \n",
       "1  $112,000 - $154,000 a year   \n",
       "2              $70.67 an hour   \n",
       "3  $203,350 - $240,240 a year   \n",
       "4                         NaN   \n",
       "\n",
       "                                                 url  jobType/0 jobType/1  \\\n",
       "0  https://www.indeed.com/viewjob?jk=3129ec5dde24...  Full-time       NaN   \n",
       "1  https://www.indeed.com/viewjob?jk=19da1b85455c...  Full-time       NaN   \n",
       "2  https://www.indeed.com/viewjob?jk=0b0b432e2a51...  Full-time       NaN   \n",
       "3  https://www.indeed.com/viewjob?jk=08d2ef77c976...  Full-time       NaN   \n",
       "4  https://www.indeed.com/viewjob?jk=e9aad7dcc34e...  Full-time       NaN   \n",
       "\n",
       "  jobType/2 jobType/3 searchInput/country searchInput/position  \\\n",
       "0       NaN       NaN                  US       Data Scientist   \n",
       "1       NaN       NaN                  US       Data Scientist   \n",
       "2       NaN       NaN                  US       Data Scientist   \n",
       "3       NaN       NaN                  US       Data Scientist   \n",
       "4       NaN       NaN                  US       Data Scientist   \n",
       "\n",
       "                                   externalApplyLink  \n",
       "0  https://www.google.com/about/careers/applicati...  \n",
       "1  https://jobs.baxter.com/en/job/-/-/152/8298788...  \n",
       "2  https://www.metacareers.com/jobs/3101204833367...  \n",
       "3  https://www.metacareers.com/jobs/1096352489054...  \n",
       "4  https://click.appcast.io/t/V35efAz0-l7FWwo6IKe...  "
      ]
     },
     "execution_count": 39,
     "metadata": {},
     "output_type": "execute_result"
    }
   ],
   "source": [
    "jobs.head()"
   ]
  },
  {
   "cell_type": "code",
   "execution_count": null,
   "id": "ec0ec06a",
   "metadata": {},
   "outputs": [],
   "source": [
    "jobs.isnull().sum()"
   ]
  },
  {
   "cell_type": "code",
   "execution_count": null,
   "id": "9bbb9958",
   "metadata": {},
   "outputs": [],
   "source": [
    "jobs.fillna(\"Unknown\", inplace=True)  # Fill missing values with \"Unknown\""
   ]
  },
  {
   "cell_type": "code",
   "execution_count": null,
   "id": "e73fa0b6",
   "metadata": {},
   "outputs": [],
   "source": [
    "jobs.head()  # Display the first few rows of the dataset"
   ]
  }
 ],
 "metadata": {
  "kernelspec": {
   "display_name": "env",
   "language": "python",
   "name": "python3"
  },
  "language_info": {
   "codemirror_mode": {
    "name": "ipython",
    "version": 3
   },
   "file_extension": ".py",
   "mimetype": "text/x-python",
   "name": "python",
   "nbconvert_exporter": "python",
   "pygments_lexer": "ipython3",
   "version": "3.13.5"
  }
 },
 "nbformat": 4,
 "nbformat_minor": 5
}
