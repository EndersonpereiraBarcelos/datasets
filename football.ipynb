{
 "cells": [
  {
   "cell_type": "markdown",
   "id": "cd459262",
   "metadata": {},
   "source": [
    "# DataSets Football\n"
   ]
  },
  {
   "cell_type": "code",
   "id": "3359fd24",
   "metadata": {},
   "source": [
    "\n",
    "import pandas as pd\n",
    "\n",
    "football = pd.read_csv(\"./dados/football.csv\")\n",
    "football.head(15)"
   ],
   "outputs": [],
   "execution_count": null
  },
  {
   "cell_type": "code",
   "id": "a9f683ec",
   "metadata": {},
   "source": [
    "football['JGLG'] = football['League'] + '-'+ football['Player Names']\n",
    "## football"
   ],
   "outputs": [],
   "execution_count": null
  },
  {
   "cell_type": "code",
   "id": "8ca7c71c",
   "metadata": {},
   "source": [
    "## Buscando somente a bundesliga\n",
    "LgBundesliga = football[football['League'] == 'Bundesliga']\n",
    "LgBundesliga.head(20)"
   ],
   "outputs": [],
   "execution_count": null
  },
  {
   "cell_type": "code",
   "id": "f1acf124",
   "metadata": {},
   "source": [
    "##criando a os dados para csb\n",
    "\n",
    "LgBundesliga.to_csv(\"./dados/LgBundesliga.csv\", index=False)  # Save the filtered data to a new CSV file"
   ],
   "outputs": [],
   "execution_count": null
  },
  {
   "cell_type": "code",
   "id": "2fe15cd7ca49e361",
   "metadata": {},
   "source": [
    "## Colocando CSV para banco de dados\n",
    "## apenas mudar o driver de sqlite para outros banco de dados\n",
    "\n",
    "\n",
    "import pandas as pd\n",
    "import sqlite3\n",
    "\n",
    "LgBundesliga = pd.read_csv(\"./dados/LgBundesliga.csv\")\n",
    "\n",
    "conn = sqlite3.connect('soccer.db')\n",
    "\n",
    "LgBundesliga.to_sql('lgbundesliga', conn, if_exists='replace')\n",
    "\n",
    "print(\"Dados inseridos com sucesso!\")\n",
    "\n",
    "conn.close()\n"
   ],
   "outputs": [],
   "execution_count": null
  }
 ],
 "metadata": {
  "kernelspec": {
   "display_name": "env",
   "language": "python",
   "name": "python3"
  },
  "language_info": {
   "codemirror_mode": {
    "name": "ipython",
    "version": 3
   },
   "file_extension": ".py",
   "mimetype": "text/x-python",
   "name": "python",
   "nbconvert_exporter": "python",
   "pygments_lexer": "ipython3",
   "version": "3.13.5"
  }
 },
 "nbformat": 4,
 "nbformat_minor": 5
}
