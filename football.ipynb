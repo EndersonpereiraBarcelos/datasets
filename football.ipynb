{
 "cells": [
  {
   "cell_type": "markdown",
   "id": "cd459262",
   "metadata": {},
   "source": [
    "# DataSets Football\n"
   ]
  },
  {
   "cell_type": "code",
   "execution_count": null,
   "id": "3359fd24",
   "metadata": {
    "ExecuteTime": {
     "end_time": "2025-07-20T12:10:24.760075Z",
     "start_time": "2025-07-20T12:10:24.225246Z"
    }
   },
   "outputs": [],
   "source": [
    "\n",
    "import pandas as pd\n",
    "\n",
    "football = pd.read_csv(\"./dados/football.csv\")\n",
    "football.head(15)"
   ]
  },
  {
   "cell_type": "code",
   "execution_count": null,
   "id": "8ca7c71c",
   "metadata": {
    "ExecuteTime": {
     "end_time": "2025-07-20T12:10:31.688883Z",
     "start_time": "2025-07-20T12:10:31.676460Z"
    }
   },
   "outputs": [],
   "source": [
    "## Buscando somente a bundesliga\n",
    "LgBundesliga = football[football['League'] == 'Bundesliga']\n",
    "LgBundesliga.head(20)"
   ]
  },
  {
   "cell_type": "code",
   "execution_count": null,
   "id": "f1acf124",
   "metadata": {},
   "outputs": [],
   "source": [
    "##criando a os dados para csb\n",
    "LgBundesliga.to_csv(\"./dados/LgBundesliga.csv\", index=False)  # Save the filtered data to a new CSV file"
   ]
  },
  {
   "cell_type": "code",
   "execution_count": null,
   "id": "184658ed",
   "metadata": {
    "ExecuteTime": {
     "end_time": "2025-07-20T12:12:46.349689Z",
     "start_time": "2025-07-20T12:12:46.291996Z"
    }
   },
   "outputs": [],
   "source": [
    "collunms_drop = ['index', 'JGLG']\n",
    "\n",
    "LgBundesliga = LgBundesliga.drop(columns=collunms_drop)"
   ]
  },
  {
   "cell_type": "code",
   "execution_count": null,
   "id": "2fe15cd7ca49e361",
   "metadata": {},
   "outputs": [],
   "source": [
    "## Colocando CSV para banco de dados\n",
    "## apenas mudar o driver de sqlite para outros banco de dados\n",
    "\n",
    "import pandas as pd\n",
    "import sqlite3\n",
    "\n",
    "LgBundesliga = pd.read_csv(\"./dados/LgBundesliga.csv\")\n",
    "\n",
    "conn = sqlite3.connect('soccer.db')\n",
    "\n",
    "LgBundesliga.to_sql('lgbundesliga', conn, if_exists='replace')\n",
    "\n",
    "print(\"Dados inseridos com sucesso!\")\n",
    "\n",
    "conn.close()\n"
   ]
  }
 ],
 "metadata": {
  "kernelspec": {
   "display_name": "env",
   "language": "python",
   "name": "python3"
  },
  "language_info": {
   "codemirror_mode": {
    "name": "ipython",
    "version": 3
   },
   "file_extension": ".py",
   "mimetype": "text/x-python",
   "name": "python",
   "nbconvert_exporter": "python",
   "pygments_lexer": "ipython3",
   "version": "3.13.5"
  }
 },
 "nbformat": 4,
 "nbformat_minor": 5
}
