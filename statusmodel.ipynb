{
 "cells": [
  {
   "cell_type": "code",
   "execution_count": 2,
   "id": "adf33842",
   "metadata": {},
   "outputs": [
    {
     "name": "stdout",
     "output_type": "stream",
     "text": [
      "                            OLS Regression Results                            \n",
      "==============================================================================\n",
      "Dep. Variable:                   nota   R-squared:                       0.983\n",
      "Model:                            OLS   Adj. R-squared:                  0.977\n",
      "Method:                 Least Squares   F-statistic:                     169.0\n",
      "Date:                Mon, 21 Jul 2025   Prob (F-statistic):           0.000983\n",
      "Time:                        12:29:12   Log-Likelihood:                -8.1084\n",
      "No. Observations:                   5   AIC:                             20.22\n",
      "Df Residuals:                       3   BIC:                             19.44\n",
      "Df Model:                           1                                         \n",
      "Covariance Type:            nonrobust                                         \n",
      "================================================================================\n",
      "                   coef    std err          t      P>|t|      [0.025      0.975]\n",
      "--------------------------------------------------------------------------------\n",
      "const           43.5000      1.658     26.231      0.000      38.223      48.777\n",
      "horas_estudo     6.5000      0.500     13.000      0.001       4.909       8.091\n",
      "==============================================================================\n",
      "Omnibus:                          nan   Durbin-Watson:                   2.533\n",
      "Prob(Omnibus):                    nan   Jarque-Bera (JB):                0.361\n",
      "Skew:                           0.408   Prob(JB):                        0.835\n",
      "Kurtosis:                       1.967   Cond. No.                         8.37\n",
      "==============================================================================\n",
      "\n",
      "Notes:\n",
      "[1] Standard Errors assume that the covariance matrix of the errors is correctly specified.\n"
     ]
    },
    {
     "name": "stderr",
     "output_type": "stream",
     "text": [
      "c:\\Users\\ender\\Documents\\datasets\\env\\Lib\\site-packages\\statsmodels\\stats\\stattools.py:74: ValueWarning: omni_normtest is not valid with less than 8 observations; 5 samples were given.\n",
      "  warn(\"omni_normtest is not valid with less than 8 observations; %i \"\n"
     ]
    }
   ],
   "source": [
    "import pandas as pd\n",
    "import statsmodels.api as sm\n",
    "\n",
    "# Carrega os dados\n",
    "df = pd.read_csv(\"notas.csv\")\n",
    "\n",
    "# Define variáveis dependente (y) e independente (X)\n",
    "X = df[\"horas_estudo\"]\n",
    "y = df[\"nota\"]\n",
    "\n",
    "# Adiciona constante (intercepto)\n",
    "X = sm.add_constant(X)\n",
    "\n",
    "# Cria e ajusta o modelo de regressão\n",
    "modelo = sm.OLS(y, X).fit()\n",
    "\n",
    "# Exibe o resumo completo\n",
    "print(modelo.summary())\n"
   ]
  }
 ],
 "metadata": {
  "kernelspec": {
   "display_name": "env (3.13.5)",
   "language": "python",
   "name": "python3"
  },
  "language_info": {
   "codemirror_mode": {
    "name": "ipython",
    "version": 3
   },
   "file_extension": ".py",
   "mimetype": "text/x-python",
   "name": "python",
   "nbconvert_exporter": "python",
   "pygments_lexer": "ipython3",
   "version": "3.13.5"
  }
 },
 "nbformat": 4,
 "nbformat_minor": 5
}
